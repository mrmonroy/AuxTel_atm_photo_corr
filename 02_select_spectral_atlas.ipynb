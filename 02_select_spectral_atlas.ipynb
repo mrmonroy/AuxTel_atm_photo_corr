{
 "cells": [
  {
   "cell_type": "markdown",
   "id": "034bf2e2",
   "metadata": {},
   "source": [
    "# Choosing spectra to make them pass through the LSST's effective passbands "
   ]
  },
  {
   "cell_type": "markdown",
   "id": "54a202e0",
   "metadata": {},
   "source": [
    "In this notebook we are going to modify the format of the [spectral atlases contained within pysynphot](https://www.stsci.edu/hst/instrumentation/reference-data-for-calibration-and-tools/astronomical-catalogs.html) to better work with them in the following notebooks. \n",
    "\n",
    "This notebook requires [pysynphot](https://pysynphot.readthedocs.io/en/latest/). "
   ]
  },
  {
   "cell_type": "code",
   "execution_count": null,
   "id": "2b234104",
   "metadata": {},
   "outputs": [],
   "source": []
  },
  {
   "cell_type": "markdown",
   "id": "5eeac475",
   "metadata": {},
   "source": [
    "# Load necessary packages "
   ]
  },
  {
   "cell_type": "code",
   "execution_count": 14,
   "id": "3a4ca172",
   "metadata": {},
   "outputs": [],
   "source": [
    "import numpy as np\n",
    "import matplotlib.pylab as plt\n",
    "import pysynphot as S\n",
    "from astropy.io import fits\n",
    "import pandas as pd\n",
    "import os"
   ]
  },
  {
   "cell_type": "markdown",
   "id": "02ea344e",
   "metadata": {},
   "source": [
    "# Paths to the possible spectral atlases \n",
    "For the moment, we are only considering observeded spectra, not models "
   ]
  },
  {
   "cell_type": "code",
   "execution_count": 2,
   "id": "f2045731",
   "metadata": {},
   "outputs": [],
   "source": [
    "pysynphot_root_path=os.environ['PYSYN_CDBS']\n",
    "path_dict = {\n",
    "    'calspec':os.path.join(pysynphot_root_path,'calspec'),\n",
    "    'bpgs':os.path.join(pysynphot_root_path,'grid/bpgs'),\n",
    "    'jacoby':os.path.join(pysynphot_root_path,'grid/jacobi'),\n",
    "    'pickles':os.path.join(pysynphot_root_path,'grid/pickles/dat_uvk')\n",
    "}"
   ]
  },
  {
   "cell_type": "code",
   "execution_count": 3,
   "id": "b84c75d3",
   "metadata": {},
   "outputs": [],
   "source": [
    "info_dict = {\n",
    "    'calspec':'',\n",
    "    'bpgs':'BPGS_README',\n",
    "    'jacoby':'jspectype.fits',\n",
    "    'pickles':'pickles_uk.fits'\n",
    "}"
   ]
  },
  {
   "cell_type": "code",
   "execution_count": 4,
   "id": "7c480859",
   "metadata": {},
   "outputs": [],
   "source": [
    "outdir = 'spectral_atlases/'\n",
    "if os.path.exists(outdir)==False:\n",
    "    os.mkdir(outdir)"
   ]
  },
  {
   "cell_type": "markdown",
   "id": "87e6e140",
   "metadata": {},
   "source": [
    "# Select spectral atlas \n",
    "For the moment, we are only considering observeded spectra, not models "
   ]
  },
  {
   "cell_type": "code",
   "execution_count": 34,
   "id": "f0a13550",
   "metadata": {},
   "outputs": [],
   "source": [
    "# Options: \n",
    "# calspec (HST calibration spectra): work in progress, need to separate stars from AGNs and other sources \n",
    "# bpgs (Bruzual-Persson-Gunn-Stryker): 175 spectra \n",
    "# jacobi (Jacoby-Hunter-Christian): 161 spectra \n",
    "# pickles (Pickles): 131 spectra \n",
    "atlas_name = 'jacoby'\n",
    "atlas_path = path_dict[atlas_name]\n",
    "atlas_info = info_dict[atlas_name]"
   ]
  },
  {
   "cell_type": "code",
   "execution_count": null,
   "id": "968d9768",
   "metadata": {},
   "outputs": [],
   "source": []
  },
  {
   "cell_type": "code",
   "execution_count": 35,
   "id": "b391c9f4",
   "metadata": {},
   "outputs": [
    {
     "name": "stdout",
     "output_type": "stream",
     "text": [
      "Number of spectra =  161\n"
     ]
    }
   ],
   "source": [
    "data_list = []\n",
    "if atlas_name=='calspec':\n",
    "    pass\n",
    "elif atlas_name=='bpgs':\n",
    "    readme = open(os.path.join(atlas_path,atlas_info),'r').readlines()\n",
    "    print('Number of spectra = ', len(readme[3:]))\n",
    "    for i in range(3,len(readme)):\n",
    "        info = readme[i].split()\n",
    "        file = info[0][:-4]+'.fits'\n",
    "        source_name = info[1]\n",
    "        if len(info)==3:\n",
    "            spec_type = info[2]\n",
    "        else:\n",
    "            spec_type = 'unknown'\n",
    "        teff = 'unknown'\n",
    "        \n",
    "        data_list.append([file,spec_type,teff,source_name])\n",
    "        \n",
    "elif atlas_name=='jacoby':\n",
    "    readme = fits.open(os.path.join(atlas_path,atlas_info))\n",
    "    info = readme[1].data\n",
    "    print('Number of spectra = ', len(info))\n",
    "    for i in range(len(info)):\n",
    "        file = info[i][0].lower()+'.fits'\n",
    "        spec_type = info[i][1]\n",
    "        source_name = 'unknown'\n",
    "        teff = 'unknown'\n",
    "        #print(file,spec_type)\n",
    "        \n",
    "        data_list.append([file,spec_type,teff,source_name])\n",
    "    \n",
    "elif atlas_name=='pickles':\n",
    "    readme = fits.open(os.path.join(atlas_path,atlas_info))\n",
    "    info = readme[1].data\n",
    "    print('Number of spectra = ', len(info))\n",
    "    #print(info[0])\n",
    "    \n",
    "    temp_file = open(os.path.join(outdir,'pickles.txt'),'r').readlines()\n",
    "    file_ = []\n",
    "    spec_type_ = []\n",
    "    teff_ = []\n",
    "    for line in temp_file:\n",
    "        file_.append(line.split()[0])\n",
    "        spec_type_.append(line.split()[1])\n",
    "        teff_.append(line.split()[2])\n",
    "    \n",
    "    for i in range(len(info)):\n",
    "        file = info[i][0]+'.fits'\n",
    "        spec_type = info[i][1]\n",
    "        source_name = 'unknown'\n",
    "        #print(file,spec_type)\n",
    "        if info[i][0] in file_:\n",
    "            index = np.where(np.array(file_)==info[i][0])[0][0]\n",
    "            #print(spec_type,spec_type_[index])\n",
    "            assert (spec_type==spec_type_[index].replace('-',''))\n",
    "            teff = teff_[index]\n",
    "        else:\n",
    "            teff = None\n",
    "        \n",
    "        data_list.append([file,spec_type,teff,source_name])\n",
    "    \n",
    "data_list = np.array(data_list)\n",
    "data_frame = pd.DataFrame(data_list, columns=['File','Type','Teff','Name'])\n",
    "data_frame.to_csv(outdir+'atlas_{0}.txt'.format(atlas_name),index=False)"
   ]
  },
  {
   "cell_type": "code",
   "execution_count": null,
   "id": "e6c6e46c",
   "metadata": {},
   "outputs": [],
   "source": []
  },
  {
   "cell_type": "code",
   "execution_count": null,
   "id": "f196b3f9",
   "metadata": {},
   "outputs": [],
   "source": []
  },
  {
   "cell_type": "code",
   "execution_count": null,
   "id": "1d7b1fc6",
   "metadata": {},
   "outputs": [],
   "source": []
  },
  {
   "cell_type": "code",
   "execution_count": null,
   "id": "26980bd5",
   "metadata": {},
   "outputs": [],
   "source": []
  }
 ],
 "metadata": {
  "kernelspec": {
   "display_name": "Python 3 (ipykernel)",
   "language": "python",
   "name": "python3"
  },
  "language_info": {
   "codemirror_mode": {
    "name": "ipython",
    "version": 3
   },
   "file_extension": ".py",
   "mimetype": "text/x-python",
   "name": "python",
   "nbconvert_exporter": "python",
   "pygments_lexer": "ipython3",
   "version": "3.8.12"
  }
 },
 "nbformat": 4,
 "nbformat_minor": 5
}
