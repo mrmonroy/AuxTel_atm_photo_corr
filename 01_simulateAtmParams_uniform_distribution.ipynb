{
 "cells": [
  {
   "cell_type": "code",
   "execution_count": 1,
   "id": "74b0427e",
   "metadata": {},
   "outputs": [],
   "source": [
    "import matplotlib.pyplot as plt\n",
    "import mpl_toolkits.mplot3d as plt3d\n",
    "import numpy as np\n",
    "import os, sys\n",
    "import matplotlib as mpl\n",
    "import pandas as pd\n",
    "import itertools\n",
    "\n",
    "from astropy import units as u\n",
    "from astropy.coordinates import Angle\n",
    "\n",
    "import time\n",
    "from datetime import datetime,date\n",
    "import dateutil.parser\n",
    "import pytz\n",
    "\n",
    "import argparse\n",
    "\n",
    "import logging\n",
    "import coloredlogs\n",
    "import configparser\n",
    "\n",
    "from astropy.io import fits\n",
    "\n",
    "from scipy.stats import rayleigh,beta,gamma,uniform"
   ]
  },
  {
   "cell_type": "markdown",
   "id": "c680084f",
   "metadata": {},
   "source": [
    "# Define function to generate simulated atm params according to their prob. distributions "
   ]
  },
  {
   "cell_type": "code",
   "execution_count": 2,
   "id": "7f2fec04",
   "metadata": {},
   "outputs": [],
   "source": [
    "def simul_params(param,n,a,b,loc,scale):\n",
    "    \"\"\n",
    "    low = loc-scale\n",
    "    high = loc+scale\n",
    "    #sim_param = uniform.rvs(loc=loc,scale=scale,size=n)\n",
    "    sim_param = np.random.uniform(low=low,high=high,size=n)\n",
    "        \n",
    "    return sim_param"
   ]
  },
  {
   "cell_type": "markdown",
   "id": "76e6816b",
   "metadata": {},
   "source": [
    "# Set parameters for simulation "
   ]
  },
  {
   "cell_type": "code",
   "execution_count": 3,
   "id": "bf7fc646",
   "metadata": {},
   "outputs": [],
   "source": [
    "#Number of simulated parameters of each type \n",
    "nsim = 10000\n",
    "atm_params = ['pwv','aerosol','ozone','cloud','airmass']\n",
    "dist_params = {'pwv':{'a':3,'b':7,'loc':3.0,'scale':3.0},\n",
    "               'aerosol':{'a':None,'b':None,'loc':0.04,'scale':0.03},\n",
    "               'ozone':{'a':3,'b':3,'loc':300,'scale':100},\n",
    "               'cloud':{'a':0.5,'b':1.5,'loc':0.5,'scale':0.5},\n",
    "               'airmass':{'a':2,'b':3,'loc':1,'scale':2},\n",
    "}\n",
    "index_params = {'pwv':0,'aerosol':1,'ozone':2,'cloud':3,'airmass':4}\n",
    "nparams = len(atm_params)"
   ]
  },
  {
   "cell_type": "code",
   "execution_count": 4,
   "id": "1762f930",
   "metadata": {},
   "outputs": [],
   "source": [
    "sim_dict = {}\n",
    "for p in atm_params:\n",
    "    a = dist_params[p]['a']\n",
    "    b = dist_params[p]['b']\n",
    "    loc = dist_params[p]['loc']\n",
    "    scale = dist_params[p]['scale']\n",
    "    param = simul_params(p,nsim,a,b,loc,scale)\n",
    "    sim_dict[p] = param"
   ]
  },
  {
   "cell_type": "code",
   "execution_count": 5,
   "id": "c233ddbb",
   "metadata": {},
   "outputs": [
    {
     "data": {
      "image/png": "[encoded data removed]",
      "text/plain": [
       "<Figure size 864x576 with 6 Axes>"
      ]
     },
     "metadata": {
      "needs_background": "light"
     },
     "output_type": "display_data"
    }
   ],
   "source": [
    "fig_rows = 3\n",
    "fig_cols = 2\n",
    "fig, axs = plt.subplots(fig_rows, fig_cols, figsize=(12,8))\n",
    "i = 0\n",
    "for row in range(fig_rows):\n",
    "    for col in range(fig_cols):\n",
    "        if i<len(atm_params):\n",
    "            atm_param_ = atm_params[i]\n",
    "            i += 1\n",
    "            \n",
    "            axs[row,col].hist(sim_dict[atm_param_],bins=50)\n",
    "            axs[row,col].set_xlabel('{0} value'.format(atm_param_))\n",
    "            axs[row,col].grid()\n",
    "        \n",
    "plt.tight_layout()"
   ]
  },
  {
   "cell_type": "markdown",
   "id": "28dff92c",
   "metadata": {},
   "source": [
    "# Fix the other parameters (we will vary only one) "
   ]
  },
  {
   "cell_type": "code",
   "execution_count": 6,
   "id": "ff1424a3",
   "metadata": {},
   "outputs": [
    {
     "name": "stdout",
     "output_type": "stream",
     "text": [
      "Aerosols - Ozone - Clouds - Airmass - Pressure\n",
      "0.04 - 300 - 0.0 - 1.2 - 0.0\n"
     ]
    }
   ],
   "source": [
    "#aer0 = np.mean(sim_dict['aerosol'])\n",
    "#oz0 = np.mean(sim_dict['ozone'])\n",
    "aer0 = dist_params['aerosol']['loc']\n",
    "oz0 = dist_params['ozone']['loc']\n",
    "\n",
    "#cloud0 = np.mean(sim_dict['cloud'])\n",
    "#am0 = np.mean(sim_dict['airmass'])\n",
    "am0 = 1.2\n",
    "pressure = 0.0\n",
    "clouds = 0.0\n",
    "print('Aerosols - Ozone - Clouds - Airmass - Pressure')\n",
    "print(aer0,'-',oz0,'-',clouds,'-',am0,'-',pressure)"
   ]
  },
  {
   "cell_type": "markdown",
   "id": "6440f784",
   "metadata": {},
   "source": [
    "# Simulate atm transparencies from the PWV simulated values "
   ]
  },
  {
   "cell_type": "code",
   "execution_count": 9,
   "id": "9a081657",
   "metadata": {},
   "outputs": [
    {
     "name": "stdout",
     "output_type": "stream",
     "text": [
      "['/home/martin/auxtel_lsst/github/my_photomCorrectAuxtel/AuxTel_atm_photo_corr', '/home/martin/anaconda3/lib/python39.zip', '/home/martin/anaconda3/lib/python3.9', '/home/martin/anaconda3/lib/python3.9/lib-dynload', '', '/home/martin/anaconda3/lib/python3.9/site-packages', '/home/martin/anaconda3/lib/python3.9/site-packages/Spectractor-2.1-py3.9.egg', '/home/martin/anaconda3/lib/python3.9/site-packages/pysynphot-2.0.0-py3.9-linux-x86_64.egg', '/home/martin/anaconda3/lib/python3.9/site-packages/emcee-3.1.1-py3.9.egg', '/home/martin/anaconda3/lib/python3.9/site-packages/astroquery-0.4.5-py3.9.egg', '/home/martin/anaconda3/lib/python3.9/site-packages/docopt-0.6.2-py3.9.egg', '/home/martin/anaconda3/lib/python3.9/site-packages/pyvo-1.2.1-py3.9.egg', '/home/martin/anaconda3/lib/python3.9/site-packages/pytz-2021.3-py3.9.egg', '/home/martin/anaconda3/lib/python3.9/site-packages/urllib3-1.26.8-py3.9.egg', '/home/martin/anaconda3/lib/python3.9/site-packages/libradtranpy-0.1.0-py3.9.egg', '/home/martin/anaconda3/lib/python3.9/site-packages/Django-4.1.2-py3.9.egg', '/home/martin/anaconda3/lib/python3.9/site-packages/sqlparse-0.4.3-py3.9.egg', '/home/martin/anaconda3/lib/python3.9/site-packages/asgiref-3.5.2-py3.9.egg', '/home/martin/anaconda3/lib/python3.9/site-packages/locket-0.2.1-py3.9.egg', '/home/martin/anaconda3/lib/python3.9/site-packages/IPython/extensions', '/home/martin/.ipython', 'libradtran', 'libradtran']\n"
     ]
    }
   ],
   "source": [
    "sys.path.append('libradtran')\n",
    "print(sys.path)"
   ]
  },
  {
   "cell_type": "code",
   "execution_count": 10,
   "id": "44b16b8c",
   "metadata": {},
   "outputs": [],
   "source": [
    "import libsimulateVisible"
   ]
  },
  {
   "cell_type": "code",
   "execution_count": 11,
   "id": "1d9b9513",
   "metadata": {},
   "outputs": [],
   "source": [
    "#Example with one PWV value, to see that everything works \n",
    "path,thefile=libsimulateVisible.ProcessSimulationaer(am0,np.mean(sim_dict['pwv']),oz0,aer0,pressure,prof_str='us',proc_str='as',cloudext=clouds)"
   ]
  },
  {
   "cell_type": "code",
   "execution_count": 12,
   "id": "828913d0",
   "metadata": {},
   "outputs": [
    {
     "data": {
      "image/png": "[encoded data removed]",
      "text/plain": [
       "<Figure size 432x288 with 1 Axes>"
      ]
     },
     "metadata": {
      "needs_background": "light"
     },
     "output_type": "display_data"
    }
   ],
   "source": [
    "transp0 = np.loadtxt(os.path.join(path,thefile))\n",
    "l = transp0[:,0]\n",
    "t = transp0[:,1]\n",
    "\n",
    "plt.plot(l,t)\n",
    "plt.grid()"
   ]
  },
  {
   "cell_type": "code",
   "execution_count": 13,
   "id": "3a595306",
   "metadata": {},
   "outputs": [
    {
     "name": "stdout",
     "output_type": "stream",
     "text": [
      "951\n"
     ]
    }
   ],
   "source": [
    "nwl = len(l)\n",
    "print(nwl)"
   ]
  },
  {
   "cell_type": "markdown",
   "id": "379171cf",
   "metadata": {},
   "source": [
    "# Check that the wavelenghts are the same "
   ]
  },
  {
   "cell_type": "code",
   "execution_count": 16,
   "id": "9e6dcb37",
   "metadata": {},
   "outputs": [
    {
     "name": "stdout",
     "output_type": "stream",
     "text": [
      "True\n"
     ]
    }
   ],
   "source": [
    "path2,thefile2=libsimulateVisible.ProcessSimulationaer(am0,np.mean(sim_dict['pwv']),oz0,aer0,pressure,prof_str='us',proc_str='as',cloudext=0)\n",
    "transp02 = np.loadtxt(os.path.join(path2,thefile2))\n",
    "wl = transp02[:,0]\n",
    "print((wl==l).all())\n",
    "wl_ref = wl"
   ]
  },
  {
   "cell_type": "markdown",
   "id": "6eb79f3d",
   "metadata": {},
   "source": [
    "# Simulate atm transparencies for all simulated values of the selected parameter "
   ]
  },
  {
   "cell_type": "code",
   "execution_count": 17,
   "id": "9dc5d504",
   "metadata": {},
   "outputs": [],
   "source": [
    "variable_param = 'aerosol'\n",
    "fixed_params = {}\n",
    "for param in atm_params:\n",
    "    if param != variable_param:\n",
    "        fixed_params[param] = np.mean(sim_dict[param])\n",
    "        fixed_params[param] = dist_params[param]['loc']\n",
    "    if param == 'airmass':\n",
    "        fixed_params[param] = 1.2\n",
    "    if param == 'cloud':\n",
    "        fixed_params[param] = clouds"
   ]
  },
  {
   "cell_type": "code",
   "execution_count": 18,
   "id": "4e8e5b25",
   "metadata": {},
   "outputs": [],
   "source": [
    "n_transp = 50"
   ]
  },
  {
   "cell_type": "code",
   "execution_count": 19,
   "id": "93adbe45",
   "metadata": {},
   "outputs": [
    {
     "data": {
      "text/plain": [
       "{'pwv': 3.0, 'ozone': 300, 'cloud': 0.0, 'airmass': 1.2}"
      ]
     },
     "execution_count": 19,
     "metadata": {},
     "output_type": "execute_result"
    }
   ],
   "source": [
    "fixed_params"
   ]
  },
  {
   "cell_type": "code",
   "execution_count": 20,
   "id": "b1d7bd52",
   "metadata": {},
   "outputs": [
    {
     "name": "stdout",
     "output_type": "stream",
     "text": [
      "1\n",
      "2\n",
      "3\n",
      "4\n",
      "5\n",
      "6\n",
      "7\n",
      "8\n",
      "9\n",
      "10\n",
      "11\n",
      "12\n",
      "13\n",
      "14\n",
      "15\n",
      "16\n",
      "17\n",
      "18\n",
      "19\n",
      "20\n",
      "21\n",
      "22\n",
      "23\n",
      "24\n",
      "25\n",
      "26\n",
      "27\n",
      "28\n",
      "29\n",
      "30\n",
      "31\n",
      "32\n",
      "33\n",
      "34\n",
      "35\n",
      "36\n",
      "37\n",
      "38\n",
      "39\n",
      "40\n",
      "41\n",
      "42\n",
      "43\n",
      "44\n",
      "45\n",
      "46\n",
      "47\n",
      "48\n",
      "49\n",
      "50\n"
     ]
    }
   ],
   "source": [
    "dataout = np.zeros((n_transp+1,nwl+nparams))\n",
    "dataout[0,nparams:] = wl_ref\n",
    "for isim in range(1,n_transp+1):\n",
    "    print(isim)\n",
    "    for param in atm_params:\n",
    "        if param != variable_param:\n",
    "            dataout[isim,index_params[param]] = fixed_params[param]\n",
    "        else:\n",
    "            dataout[isim,index_params[param]] = sim_dict[param][isim]\n",
    "    airmass_ = dataout[isim,index_params['airmass']]\n",
    "    pwv_ = dataout[isim,index_params['pwv']]\n",
    "    ozone_ = dataout[isim,index_params['ozone']]\n",
    "    aerosol_ = dataout[isim,index_params['aerosol']]\n",
    "    cloud_ = dataout[isim,index_params['cloud']]\n",
    "    #Run libradtran \n",
    "    path,thefile=libsimulateVisible.ProcessSimulationaer(airmass_,pwv_,ozone_,aerosol_,pressure,prof_str='us',proc_str='as',cloudext=cloud_)\n",
    "    transp_file = np.loadtxt(os.path.join(path,thefile))\n",
    "    \n",
    "    t = transp_file[:,1]\n",
    "    dataout[isim,nparams:] = t"
   ]
  },
  {
   "cell_type": "code",
   "execution_count": 21,
   "id": "6c016a14",
   "metadata": {},
   "outputs": [],
   "source": [
    "hdr = fits.Header()\n",
    "hdr['NTRANSP']=n_transp\n",
    "#hdr['ID_NUM']=idx_out_num\n",
    "hdr['ID_AM']=index_params['airmass']\n",
    "hdr['ID_VAOD']=index_params['aerosol']\n",
    "hdr['ID_PWV']=index_params['pwv']\n",
    "hdr['ID_O3']=index_params['ozone']\n",
    "hdr['ID_CLD']=index_params['cloud']\n",
    "hdr['ID_RES']=nparams\n",
    "\n",
    "output_dir = './simulated_transparencies'\n",
    "if os.path.exists(output_dir) == False:\n",
    "    os.mkdir(output_dir)\n",
    "output_file = 'simulated_transparencies_varying_{0}.fits'.format(variable_param)\n",
    "\n",
    "output_fullfilename = os.path.join(output_dir,output_file)\n",
    "\n",
    "hdu = fits.PrimaryHDU(dataout,header=hdr)\n",
    "hdu.writeto(output_fullfilename,overwrite=True)"
   ]
  },
  {
   "cell_type": "code",
   "execution_count": null,
   "id": "28789eaa",
   "metadata": {},
   "outputs": [],
   "source": []
  }
 ],
 "metadata": {
  "kernelspec": {
   "display_name": "Python 3 (ipykernel)",
   "language": "python",
   "name": "python3"
  },
  "language_info": {
   "codemirror_mode": {
    "name": "ipython",
    "version": 3
   },
   "file_extension": ".py",
   "mimetype": "text/x-python",
   "name": "python",
   "nbconvert_exporter": "python",
   "pygments_lexer": "ipython3",
   "version": "3.9.7"
  }
 },
 "nbformat": 4,
 "nbformat_minor": 5
}
